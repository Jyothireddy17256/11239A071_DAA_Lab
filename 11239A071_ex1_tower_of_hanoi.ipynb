{
  "nbformat": 4,
  "nbformat_minor": 0,
  "metadata": {
    "colab": {
      "provenance": [],
      "authorship_tag": "ABX9TyO0N/BAnr9KLTZd6cNzqEU/",
      "include_colab_link": true
    },
    "kernelspec": {
      "name": "python3",
      "display_name": "Python 3"
    },
    "language_info": {
      "name": "python"
    }
  },
  "cells": [
    {
      "cell_type": "markdown",
      "metadata": {
        "id": "view-in-github",
        "colab_type": "text"
      },
      "source": [
        "<a href=\"https://colab.research.google.com/github/Jyothireddy17256/11239A071_DAA_Lab/blob/main/11239A071_ex1_tower_of_hanoi.ipynb\" target=\"_parent\"><img src=\"https://colab.research.google.com/assets/colab-badge.svg\" alt=\"Open In Colab\"/></a>"
      ]
    },
    {
      "cell_type": "code",
      "execution_count": 1,
      "metadata": {
        "colab": {
          "base_uri": "https://localhost:8080/"
        },
        "id": "smfspglJmE04",
        "outputId": "0d95c11c-d93f-4179-ccc3-b79b59d31627"
      },
      "outputs": [
        {
          "output_type": "stream",
          "name": "stdout",
          "text": [
            "enter a number3\n",
            "move disk 1 from atoc\n",
            "move disk 2 from atob\n",
            "move disk 1 from ctob\n",
            "move disk 3 from atoc\n",
            "move disk 1 from btoa\n",
            "move disk 2 from btoc\n",
            "move disk 1 from atoc\n"
          ]
        }
      ],
      "source": [
        "def tower(n, source, aux, target):\n",
        "    if n == 1:\n",
        "        print(f\"move disk 1 from {source}to{target}\")\n",
        "        return\n",
        "    tower(n - 1, source, target, aux)\n",
        "    print(f\"move disk {n} from {source}to{target}\")\n",
        "    tower(n - 1, aux, source, target)\n",
        "\n",
        "# Change 'name' to '__name__' to correctly check if the script is the main program\n",
        "if __name__ == \"__main__\":\n",
        "    n = int(input(\"enter a number\"))\n",
        "    tower(n, 'a', 'b', 'c')"
      ]
    }
  ]
}